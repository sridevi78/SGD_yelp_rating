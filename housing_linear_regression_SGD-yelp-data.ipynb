{
 "cells": [
  {
   "cell_type": "code",
   "execution_count": 1,
   "metadata": {},
   "outputs": [],
   "source": [
    "from sklearn.linear_model import SGDRegressor\n",
    "from sklearn.linear_model import Ridge\n",
    "from sklearn.linear_model import LinearRegression\n",
    "from sklearn.pipeline import Pipeline\n",
    "import pandas as pd\n",
    "import sys\n",
    "import StringIO as sio\n",
    "import matplotlib.pyplot as plt\n",
    "import numpy as np\n",
    "from sklearn import preprocessing\n",
    "from sklearn import model_selection\n",
    "from sklearn import base"
   ]
  },
  {
   "cell_type": "code",
   "execution_count": 2,
   "metadata": {},
   "outputs": [],
   "source": [
    "import ujson as json\n",
    "import gzip\n",
    "with gzip.open('yelp_train_academic_dataset_business.json.gz') as f:\n",
    "    data = [json.loads(line) for line in f]"
   ]
  },
  {
   "cell_type": "code",
   "execution_count": 3,
   "metadata": {},
   "outputs": [
    {
     "name": "stdout",
     "output_type": "stream",
     "text": [
      "37938\n",
      "<type 'list'>\n",
      "{u'city': u'Phoenix', u'review_count': 7, u'name': u'Eric Goldberg, MD', u'neighborhoods': [], u'type': u'business', u'business_id': u'vcNAWiLM4dR7D2nwwJ7nCA', u'full_address': u'4840 E Indian School Rd\\nSte 101\\nPhoenix, AZ 85018', u'hours': {u'Thursday': {u'close': u'17:00', u'open': u'08:00'}, u'Tuesday': {u'close': u'17:00', u'open': u'08:00'}, u'Friday': {u'close': u'17:00', u'open': u'08:00'}, u'Wednesday': {u'close': u'17:00', u'open': u'08:00'}, u'Monday': {u'close': u'17:00', u'open': u'08:00'}}, u'state': u'AZ', u'longitude': -111.983758, u'stars': 3.5, u'latitude': 33.499313, u'attributes': {u'By Appointment Only': True}, u'open': True, u'categories': [u'Doctors', u'Health & Medical']}\n"
     ]
    }
   ],
   "source": [
    "print len(data)\n",
    "print type(data)\n",
    "print data[0]"
   ]
  },
  {
   "cell_type": "code",
   "execution_count": 4,
   "metadata": {},
   "outputs": [
    {
     "name": "stdout",
     "output_type": "stream",
     "text": [
      "37938 37938 37938 37938 37938 37938\n"
     ]
    }
   ],
   "source": [
    "star_ratings = [row['stars'] for row in data]\n",
    "city = [row['city'] for row in data]\n",
    "nbrhood = [row['neighborhoods'] for row in data]\n",
    "lat = [row['latitude'] for row in data]\n",
    "lon = [row['longitude'] for row in data] \n",
    "cat= [row['categories'] for row in data]\n",
    "print len(star_ratings),len(city),len(nbrhood),len(lat),len(lon),len(cat)"
   ]
  },
  {
   "cell_type": "code",
   "execution_count": 5,
   "metadata": {},
   "outputs": [],
   "source": [
    "X_tr=[]\n",
    "y_tr=[]\n",
    "for i in range(37938):\n",
    "    X_tr.append((city[i],nbrhood[i],lat[i],lon[i],cat[i]))\n",
    "    y_tr.append(star_ratings[i])"
   ]
  },
  {
   "cell_type": "code",
   "execution_count": 12,
   "metadata": {},
   "outputs": [],
   "source": [
    "class ColumnSelectTransformer(base.BaseEstimator, base.TransformerMixin):\n",
    "    \n",
    "    def __init__(self, col_names):\n",
    "        self.col_names = col_names  # We will need these in transform()\n",
    "    \n",
    "    def fit(self, X, y=None):\n",
    "        # This transformer doesn't need to learn anything about the data,\n",
    "        # so it can just return self without any further processing\n",
    "        return self\n",
    "    \n",
    "    def transform(self, X):\n",
    "        out=[]\n",
    "        # Return an array with the same number of rows as X and one\n",
    "        # column for each in self.col_names\n",
    "        for row in X:\n",
    "            out.append([row[i] for i in self.col_names])\n",
    "        return out"
   ]
  },
  {
   "cell_type": "code",
   "execution_count": 13,
   "metadata": {},
   "outputs": [],
   "source": [
    "class DictEncoder(base.BaseEstimator, base.TransformerMixin):\n",
    "    \n",
    "    def fit(self, X, y=None):\n",
    "        return self\n",
    "    \n",
    "    def transform(self, X):\n",
    "        ret_list=[]\n",
    "        for i in range(len(X)):\n",
    "            dic={}\n",
    "            for j in range(len(X[i][0])):\n",
    "                dic[X[i][0][j]]=1\n",
    "            ret_list.append(dic)\n",
    "        return ret_list"
   ]
  },
  {
   "cell_type": "code",
   "execution_count": 14,
   "metadata": {},
   "outputs": [],
   "source": [
    "from sklearn.feature_extraction import DictVectorizer\n",
    "from sklearn.linear_model import Ridge\n",
    "from sklearn.feature_extraction.text import TfidfTransformer"
   ]
  },
  {
   "cell_type": "code",
   "execution_count": 15,
   "metadata": {},
   "outputs": [],
   "source": [
    "cst=ColumnSelectTransformer(['categories','city','latitude','longitude'])\n",
    "d_en=DictEncoder()\n",
    "dv = DictVectorizer(sparse=False)\n",
    "tfid=TfidfTransformer()\n",
    "sgdr=SGDRegressor(verbose=2,max_iter=1)\n",
    "category_est = Pipeline([\n",
    "        ('cst',ColumnSelectTransformer(['categories','city','latitude','longitude'])),\n",
    "        ('d_en',DictEncoder()),\n",
    "        ('dv',DictVectorizer(sparse=False)),\n",
    "        ('tfid',TfidfTransformer()),\n",
    "        ('sgdr',SGDRegressor(verbose=2,max_iter=1))\n",
    "    ])   "
   ]
  },
  {
   "cell_type": "code",
   "execution_count": 16,
   "metadata": {},
   "outputs": [
    {
     "name": "stdout",
     "output_type": "stream",
     "text": [
      "-- Epoch 1\n",
      "Norm: 10.87, NNZs: 706, Bias: 0.730671, T: 37938, Avg. loss: 2.566774\n",
      "Total training time: 0.00 seconds.\n"
     ]
    },
    {
     "data": {
      "text/plain": [
       "Pipeline(memory=None,\n",
       "     steps=[('cst', ColumnSelectTransformer(col_names=['categories', 'city', 'latitude', 'longitude'])), ('d_en', DictEncoder()), ('dv', DictVectorizer(dtype=<type 'numpy.float64'>, separator='=', sort=True,\n",
       "        sparse=False)), ('tfid', TfidfTransformer(norm=u'l2', smooth_idf=True, sublinear_tf=False...      power_t=0.25, random_state=None, shuffle=True, tol=None, verbose=2,\n",
       "       warm_start=False))])"
      ]
     },
     "execution_count": 16,
     "metadata": {},
     "output_type": "execute_result"
    }
   ],
   "source": [
    "category_est.fit(data, star_ratings)"
   ]
  }
 ],
 "metadata": {
  "kernelspec": {
   "display_name": "Python 2",
   "language": "python",
   "name": "python2"
  },
  "language_info": {
   "codemirror_mode": {
    "name": "ipython",
    "version": 2
   },
   "file_extension": ".py",
   "mimetype": "text/x-python",
   "name": "python",
   "nbconvert_exporter": "python",
   "pygments_lexer": "ipython2",
   "version": "2.7.14"
  }
 },
 "nbformat": 4,
 "nbformat_minor": 2
}
